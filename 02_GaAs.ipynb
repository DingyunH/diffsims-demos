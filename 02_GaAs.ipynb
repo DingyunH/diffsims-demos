{
 "cells": [
  {
   "cell_type": "markdown",
   "metadata": {},
   "source": [
    "# Introduction"
   ]
  },
  {
   "cell_type": "markdown",
   "metadata": {},
   "source": [
    "This tutorial demonstrates how to achieve phase and orientation mapping via scanning electron diffraction using both pattern and vector matching."
   ]
  },
  {
   "cell_type": "markdown",
   "metadata": {},
   "source": [
    "The data was acquired from a GaAs nanowire displaying polymorphism between zinc blende and wurtzite structures."
   ]
  },
  {
   "cell_type": "markdown",
   "metadata": {},
   "source": [
    "This functionaility has been checked to run in pyxem-0.11.0 (May 2020). Bugs are always possible, do not trust the code blindly, and if you experience any issues please report them here: https://github.com/pyxem/pyxem-demos/issues"
   ]
  },
  {
   "cell_type": "markdown",
   "metadata": {},
   "source": [
    "1. <a href='#tem'> Template Matching</a>\n",
    "    1. <a href='#tema'> [Define Libary of Structures and Orientations]</a>\n",
    "    2. <a href='#temb'>[Simulate Diffraction]</a>\n",
    "2. <a href='#vec'> Vector Matching</a>\n",
    "    1. <a href='#veca'> [Build Vector Library]</a>\n",
    "    2. <a href='#vecb'>[Indexing Vectors]</a>\n",
    "3. <a href='#vec'> Calculating Profile Data</a>\n",
    " \n",
    "    \n",
    "    "
   ]
  },
  {
   "cell_type": "markdown",
   "metadata": {},
   "source": [
    "# <a id='tem'></a> 1. Pattern Matching"
   ]
  },
  {
   "cell_type": "markdown",
   "metadata": {},
   "source": [
    "Pattern matching generates a database of simulated diffraction patterns and then compares all simulated patterns against each experimental pattern to find the best match"
   ]
  },
  {
   "cell_type": "markdown",
   "metadata": {},
   "source": [
    "Import generators required for simulation and indexation"
   ]
  },
  {
   "cell_type": "code",
   "execution_count": null,
   "metadata": {},
   "outputs": [],
   "source": [
    "%matplotlib notebook\n",
    "import numpy as np\n",
    "import diffpy.structure \n",
    "from diffsims.libraries.structure_library import StructureLibrary\n",
    "from diffsims.generators.diffraction_generator import DiffractionGenerator\n",
    "from diffsims.generators.library_generator import DiffractionLibraryGenerator\n",
    "from diffsims.generators.zap_map_generator import get_rotation_from_z_to_direction\n",
    "from diffsims.generators.rotation_list_generators import get_grid_around_beam_direction"
   ]
  },
  {
   "cell_type": "markdown",
   "metadata": {},
   "source": [
    "## 1.1. Define Library of Structures & Orientations"
   ]
  },
  {
   "cell_type": "markdown",
   "metadata": {},
   "source": [
    "Define the crystal phases to be included in the simulated library"
   ]
  },
  {
   "cell_type": "code",
   "execution_count": null,
   "metadata": {},
   "outputs": [],
   "source": [
    "#changed the pointer location here\n",
    "structure_zb = diffpy.structure.loadStructure('./GaAs_cif/GaAs_mp-2534_conventional_standard.cif')\n",
    "structure_wz = diffpy.structure.loadStructure('./GaAs_cif/GaAs_mp-8883_conventional_standard.cif')"
   ]
  },
  {
   "cell_type": "markdown",
   "metadata": {},
   "source": [
    "Create a basic rotations list.    "
   ]
  },
  {
   "cell_type": "code",
   "execution_count": null,
   "metadata": {},
   "outputs": [],
   "source": [
    "za110c = get_rotation_from_z_to_direction(structure_zb, [1,1,0])\n",
    "rot_list_cubic = get_grid_around_beam_direction(beam_rotation=za110c, resolution=1, angular_range=(0,180))"
   ]
  },
  {
   "cell_type": "code",
   "execution_count": null,
   "metadata": {},
   "outputs": [],
   "source": [
    "za110h = get_rotation_from_z_to_direction(structure_wz, [1,1,0])\n",
    "rot_list_hex = get_grid_around_beam_direction(beam_rotation=za110h, resolution=1, angular_range=(0,180))"
   ]
  },
  {
   "cell_type": "markdown",
   "metadata": {},
   "source": [
    "Construct a StructureLibrary defining crystal structures and orientations for which diffraction will be simulated "
   ]
  },
  {
   "cell_type": "code",
   "execution_count": null,
   "metadata": {},
   "outputs": [],
   "source": [
    "struc_lib = StructureLibrary(['ZB','WZ'],\n",
    "                             [structure_zb,structure_wz],\n",
    "                             [rot_list_cubic,rot_list_hex])"
   ]
  },
  {
   "cell_type": "markdown",
   "metadata": {},
   "source": [
    "## <a id='temb'></a> 1.2. Simulate Diffraction for all Structures & Orientations"
   ]
  },
  {
   "cell_type": "markdown",
   "metadata": {},
   "source": [
    "Define a diffsims DiffractionGenerator with diffraction simulation parameters"
   ]
  },
  {
   "cell_type": "code",
   "execution_count": null,
   "metadata": {},
   "outputs": [],
   "source": [
    "diff_gen = DiffractionGenerator(accelerating_voltage=300,\n",
    "                                max_excitation_error=1/10)"
   ]
  },
  {
   "cell_type": "markdown",
   "metadata": {},
   "source": [
    "Initialize a diffsims DiffractionLibraryGenerator"
   ]
  },
  {
   "cell_type": "code",
   "execution_count": null,
   "metadata": {},
   "outputs": [],
   "source": [
    "lib_gen = DiffractionLibraryGenerator(diff_gen)"
   ]
  },
  {
   "cell_type": "markdown",
   "metadata": {},
   "source": [
    "Calulate library of diffraction patterns for all phases and unique orientations"
   ]
  },
  {
   "cell_type": "code",
   "execution_count": null,
   "metadata": {},
   "outputs": [],
   "source": [
    "\n",
    "half_size = 128\n",
    "recip_d111 = np.sqrt((3/5.6535**2))\n",
    "recip_cal = recip_d111 / 11.4\n",
    "\n",
    "diffraction_calibration = recip_cal\n",
    "reciprocal_radius = diffraction_calibration*(half_size - 1)\n",
    "\n",
    "diff_lib = lib_gen.get_diffraction_library(struc_lib,\n",
    "                                           calibration=diffraction_calibration,\n",
    "                                           reciprocal_radius=reciprocal_radius,\n",
    "                                           half_shape=(half_size, half_size),\n",
    "                                           with_direct_beam=False)"
   ]
  },
  {
   "cell_type": "markdown",
   "metadata": {},
   "source": [
    "Optionally, save the library for later use."
   ]
  },
  {
   "cell_type": "code",
   "execution_count": null,
   "metadata": {},
   "outputs": [],
   "source": [
    "diff_lib.pickle_library('./GaAs_cubic_hex.pickle')"
   ]
  },
  {
   "cell_type": "markdown",
   "metadata": {},
   "source": [
    "If saved, the library can be loaded as follows"
   ]
  },
  {
   "cell_type": "code",
   "execution_count": null,
   "metadata": {},
   "outputs": [],
   "source": [
    "from diffsims.libraries.diffraction_library import load_DiffractionLibrary\n",
    "\n",
    "diff_lib = load_DiffractionLibrary('./GaAs_cubic_hex.pickle', safety=True)"
   ]
  },
  {
   "cell_type": "markdown",
   "metadata": {},
   "source": [
    "# <a id='vec'></a> 2. Vector Matching"
   ]
  },
  {
   "cell_type": "markdown",
   "metadata": {},
   "source": [
    "Vector matching generates a database of vector pairs (magnitues and inter-vector angles) and then compares all theoretical values against each measured diffraction vector pair to find the best match"
   ]
  },
  {
   "cell_type": "markdown",
   "metadata": {},
   "source": [
    "Import generators required for simulation and indexation"
   ]
  },
  {
   "cell_type": "code",
   "execution_count": null,
   "metadata": {},
   "outputs": [],
   "source": [
    "from diffsims.generators.library_generator import VectorLibraryGenerator\n",
    "from diffsims.libraries.structure_library import StructureLibrary\n",
    "from diffsims.libraries.vector_library import load_VectorLibrary\n",
    "\n",
    "from pyxem.generators.indexation_generator import VectorIndexationGenerator\n",
    "\n",
    "from pyxem.generators.subpixelrefinement_generator import SubpixelrefinementGenerator\n",
    "from pyxem.signals.diffraction_vectors import DiffractionVectors"
   ]
  },
  {
   "cell_type": "markdown",
   "metadata": {},
   "source": [
    "## <a id='veca'></a> 2.1. Define Library of Structures"
   ]
  },
  {
   "cell_type": "markdown",
   "metadata": {},
   "source": [
    "Define crystal structure for which to determine theoretical vector pairs"
   ]
  },
  {
   "cell_type": "code",
   "execution_count": null,
   "metadata": {},
   "outputs": [],
   "source": [
    "structure_zb = diffpy.structure.loadStructure('./GaAs_cif/GaAs_mp-2534_conventional_standard.cif')\n",
    "structure_wz = diffpy.structure.loadStructure('./GaAs_cif/GaAs_mp-8883_conventional_standard.cif')\n",
    "\n",
    "structure_library = StructureLibrary(['ZB', 'WZ'],\n",
    "                                     [structure_zb, structure_wz],\n",
    "                                     [[], []])"
   ]
  },
  {
   "cell_type": "markdown",
   "metadata": {},
   "source": [
    "Initialize VectorLibraryGenerator with structures to be considered"
   ]
  },
  {
   "cell_type": "code",
   "execution_count": null,
   "metadata": {},
   "outputs": [],
   "source": [
    "vlib_gen = VectorLibraryGenerator(structure_library)"
   ]
  },
  {
   "cell_type": "markdown",
   "metadata": {},
   "source": [
    "Determine VectorLibrary with all vectors within given reciprocal radius"
   ]
  },
  {
   "cell_type": "code",
   "execution_count": null,
   "metadata": {},
   "outputs": [],
   "source": [
    "#changed delete recipricol radius definition as defined in cell In[8]:\n",
    "#this is the cell which is erroring\n",
    "vec_lib = vlib_gen.get_vector_library(1)"
   ]
  },
  {
   "cell_type": "markdown",
   "metadata": {},
   "source": [
    "Optionally, save the library for later use"
   ]
  },
  {
   "cell_type": "code",
   "execution_count": null,
   "metadata": {},
   "outputs": [],
   "source": [
    "vec_lib.pickle_library('./GaAs_cubic_hex_vectors.pickle')"
   ]
  },
  {
   "cell_type": "code",
   "execution_count": null,
   "metadata": {},
   "outputs": [],
   "source": [
    "vec_lib = load_VectorLibrary('./GaAs_cubic_hex_vectors.pickle',\n",
    "                             safety=True)"
   ]
  },
  {
   "cell_type": "markdown",
   "metadata": {},
   "source": [
    "# <a id='veca'></a> 3. Calculate profile data "
   ]
  },
  {
   "cell_type": "markdown",
   "metadata": {},
   "source": [
    "Calling the calculate_profile_data method from the diffsims diffraction generator libary fror the zinc-blende structure"
   ]
  },
  {
   "cell_type": "code",
   "execution_count": null,
   "metadata": {
    "scrolled": true
   },
   "outputs": [],
   "source": [
    "prof_sim_zb = diff_gen.calculate_profile_data(structure_zb, reciprocal_radius=reciprocal_radius)\n"
   ]
  },
  {
   "cell_type": "markdown",
   "metadata": {},
   "source": [
    "Plot the simulation profile for the ZB structure"
   ]
  },
  {
   "cell_type": "code",
   "execution_count": null,
   "metadata": {
    "scrolled": false
   },
   "outputs": [],
   "source": [
    "\n",
    "plt_zb = prof_sim_zb.get_plot(5)\n",
    "plt_zb.title('Diffraction simulation profile for Zinc Blende with peaks identified')\n",
    "plt_zb.tight_layout()\n",
    "plt_zb.show()\n",
    "\n"
   ]
  },
  {
   "cell_type": "markdown",
   "metadata": {},
   "source": [
    "Do the same for other structures (Wurtzite done here)"
   ]
  },
  {
   "cell_type": "code",
   "execution_count": null,
   "metadata": {},
   "outputs": [],
   "source": [
    "prof_sim_wz = diff_gen.calculate_profile_data(structure_wz, reciprocal_radius=reciprocal_radius)\n",
    "\n"
   ]
  },
  {
   "cell_type": "code",
   "execution_count": null,
   "metadata": {},
   "outputs": [],
   "source": [
    "plt_wz = prof_sim_wz.get_plot(5)\n",
    "plt_wz.title('Diffraction simulation profile for Wurtzite with peaks identified')\n",
    "plt_wz.tight_layout()\n",
    "plt_wz.show()"
   ]
  },
  {
   "cell_type": "code",
   "execution_count": null,
   "metadata": {},
   "outputs": [],
   "source": []
  }
 ],
 "metadata": {
  "kernelspec": {
   "display_name": "Python 3",
   "language": "python",
   "name": "python3"
  },
  "language_info": {
   "codemirror_mode": {
    "name": "ipython",
    "version": 3
   },
   "file_extension": ".py",
   "mimetype": "text/x-python",
   "name": "python",
   "nbconvert_exporter": "python",
   "pygments_lexer": "ipython3",
   "version": "3.8.3"
  }
 },
 "nbformat": 4,
 "nbformat_minor": 4
}
