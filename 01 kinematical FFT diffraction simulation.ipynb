{
 "cells": [
  {
   "cell_type": "markdown",
   "metadata": {},
   "source": [
    "# Introduction"
   ]
  },
  {
   "cell_type": "markdown",
   "metadata": {},
   "source": [
    "This tutorial demonstrates how to compute a kinematic electron diffraction pattern simulation."
   ]
  },
  {
   "cell_type": "markdown",
   "metadata": {},
   "source": [
    "The code functionality is illustrated using a simple cubic crystal, which is first generated using `diffpy`. The intention is for this to provide an easy to understand illustration of the code functionality rather than to model any physical system."
   ]
  },
  {
   "cell_type": "markdown",
   "metadata": {},
   "source": [
    "This functionality has been checked to run in diffsims-0.2.3 (July 2020), on both CPU and CUDA-GPU. Bugs are always possible, do not trust the code blindly, and if you experience any issues please report them here: https://github.com/pyxem/pyxem-demos/issues"
   ]
  },
  {
   "cell_type": "markdown",
   "metadata": {},
   "source": [
    "# Contents"
   ]
  },
  {
   "cell_type": "markdown",
   "metadata": {},
   "source": [
    "1. <a href='#gen'> Setting up & Creating Synthetic Data</a>\n",
    "2. <a href='#aff'> Diffraction simulation</a>"
   ]
  },
  {
   "cell_type": "markdown",
   "metadata": {},
   "source": [
    "# <a id='gen'></a> 1. Setting up & Creating Crystal"
   ]
  },
  {
   "cell_type": "markdown",
   "metadata": {},
   "source": [
    "Import pyxem and other required libraries"
   ]
  },
  {
   "cell_type": "code",
   "execution_count": 2,
   "metadata": {},
   "outputs": [],
   "source": [
    "%matplotlib notebook\n",
    "import numpy as np\n",
    "import diffsims as ds\n",
    "import diffpy.structure\n",
    "from diffpy.structure.expansion import supercell\n",
    "from matplotlib import pyplot as plt\n",
    "from time import time"
   ]
  },
  {
   "cell_type": "markdown",
   "metadata": {},
   "source": [
    "Define a structure for the creation of synthetic data"
   ]
  },
  {
   "cell_type": "code",
   "execution_count": 3,
   "metadata": {},
   "outputs": [],
   "source": [
    "latt = diffpy.structure.lattice.Lattice(5.43,5.43,5.43,90,90,90)\n",
    "atom = diffpy.structure.atom.Atom(atype='Si',xyz=[0,0,0],lattice=latt)\n",
    "structure = diffpy.structure.Structure(atoms=[atom],lattice=latt)\n",
    "structure = supercell(structure, (70, 70, 30)) # 70x70x30 mesh of atoms spaced 2A apart\n",
    "c = structure.xyz_cartn.reshape(-1,3).max(0)/2 # Centre of crystal"
   ]
  },
  {
   "cell_type": "markdown",
   "metadata": {},
   "source": [
    "Define spatial coordinates on which to discretise in real and reciprocal space and initialise probe of width 5 angstroms."
   ]
  },
  {
   "cell_type": "code",
   "execution_count": 4,
   "metadata": {},
   "outputs": [],
   "source": [
    "real_grid, recip_grid = ds.get_recip_points(2, dX=.2, rX=40)\n",
    "probe = ds.BesselProbe(5)"
   ]
  },
  {
   "cell_type": "markdown",
   "metadata": {},
   "source": [
    "Discretise and plot the volume"
   ]
  },
  {
   "cell_type": "code",
   "execution_count": null,
   "metadata": {},
   "outputs": [],
   "source": [
    "x = ds.get_recip_points(3, dX=.2, rX=80)[0]\n",
    "tic = time()\n",
    "vol = ds.get_discretisation(structure.xyz_cartn-c, 14, x, pointwise=True, ZERO=1e-5)\n",
    "vol /= vol.max()\n",
    "p_vol = vol*2*probe(x)\n",
    "plt.figure('volume', figsize=(9,9))\n",
    "mid = tuple(s//2 for s in vol.shape)\n",
    "plt.subplot(211)\n",
    "plt.plot(x[0],vol.max((1,2)), x[0],p_vol.max((1,2)), x[0], 2*probe(x)[:,mid[1],mid[2]])\n",
    "plt.legend(('Atomic intensities', 'Probe intensity', 'Iluminated atomic intensities'), loc='upper right')\n",
    "plt.title('Max-projection of crystal')\n",
    "plt.subplot(223)\n",
    "plt.imshow(vol.max(2)**.4, aspect='equal', origin='lower', extent=[x[0][0], x[0][-1], x[1][0], x[1][-1]])\n",
    "plt.title('x-y max-projection of crystal')\n",
    "plt.subplot(224)\n",
    "plt.imshow(p_vol.max(2)**0.1, aspect='equal', origin='lower', extent=[x[0][0], x[0][-1], x[1][0], x[1][-1]])\n",
    "plt.title('x-y max-projection of illuminated crystal')\n",
    "plt.tight_layout()\n",
    "'Volume discretisation and plotting: %.2fs'%(time()-tic)"
   ]
  },
  {
   "cell_type": "markdown",
   "metadata": {},
   "source": [
    "# <a id='aff'></a> 2. Diffraction Simulation"
   ]
  },
  {
   "cell_type": "markdown",
   "metadata": {},
   "source": [
    "Standard diffraction pattern"
   ]
  },
  {
   "cell_type": "code",
   "execution_count": null,
   "metadata": {},
   "outputs": [],
   "source": [
    "tic = time()\n",
    "ediff = ds.AtomicDiffractionGenerator(300, real_grid)\n",
    "diff_plain = ediff.calculate_ed_data(structure, probe, slice_thickness=1, probe_centre=c[:2])\n",
    "'Standard diffraction pattern: %.2fs'%(time()-tic)"
   ]
  },
  {
   "cell_type": "markdown",
   "metadata": {},
   "source": [
    "Defined on reciprocal grid, equivalent to standard call."
   ]
  },
  {
   "cell_type": "code",
   "execution_count": null,
   "metadata": {},
   "outputs": [],
   "source": [
    "tic = time()\n",
    "ediff = ds.AtomicDiffractionGenerator(300., recip_grid, reciprocal_mesh=True)\n",
    "diff_recip = ediff.calculate_ed_data(structure, probe, slice_thickness=1, probe_centre=c[:2])\n",
    "'Input reciprocal mesh: %.2fs'%(time()-tic)"
   ]
  },
  {
   "cell_type": "markdown",
   "metadata": {},
   "source": [
    "Diffraction pattern with precession"
   ]
  },
  {
   "cell_type": "code",
   "execution_count": null,
   "metadata": {},
   "outputs": [],
   "source": [
    "tic = time()\n",
    "ediff = ds.AtomicDiffractionGenerator(300., real_grid)\n",
    "diff_prec = ediff.calculate_ed_data(structure, probe, slice_thickness=1, probe_centre=c[:2],\n",
    "                                    precessed=(1.0, 30))\n",
    "'Precessed diffraction pattern: %.2fs'%(time()-tic)"
   ]
  },
  {
   "cell_type": "markdown",
   "metadata": {},
   "source": [
    "High energy limit, beam energy can be set to 'inf' for faster computation."
   ]
  },
  {
   "cell_type": "code",
   "execution_count": null,
   "metadata": {},
   "outputs": [],
   "source": [
    "tic = time()\n",
    "ediff = ds.AtomicDiffractionGenerator('inf', real_grid)\n",
    "diff_flat = ediff.calculate_ed_data(structure, probe, slice_thickness=1, probe_centre=c[:2])\n",
    "'High energy limit: %.2fs'%(time()-tic)"
   ]
  },
  {
   "cell_type": "markdown",
   "metadata": {},
   "source": [
    "Other efficiency parameters include setting `dtype` and `ZERO` threshold (values below this will be set to 0 during the volume discretisation) or changing the `pointwise` flag. Setting `dtype` is mainly an advantage during precession where the cost of a Fourier transform dominates, `ZERO` and `pointwise` are more useful for speeding up initial discretisation. By default, the atomic charge within a voxel is taken to be equal to its average value whereas setting `pointwise=True` assumes that it is equal to the value at the centre of the voxel. This is accurate if the resolution is high but otherwise introduces some intensity artefacts."
   ]
  },
  {
   "cell_type": "code",
   "execution_count": null,
   "metadata": {},
   "outputs": [],
   "source": [
    "tic = time()\n",
    "ediff = ds.AtomicDiffractionGenerator(300, real_grid)\n",
    "diff_fast = ediff.calculate_ed_data(structure, probe, slice_thickness=1, probe_centre=c[:2],\n",
    "                                   pointwise=True, dtype='float32', ZERO=1e-4)\n",
    "'Low precision: %.2fs'%(time()-tic)\n"
   ]
  },
  {
   "cell_type": "markdown",
   "metadata": {},
   "source": [
    "Low energy simulation to see curvature of the sphere."
   ]
  },
  {
   "cell_type": "code",
   "execution_count": null,
   "metadata": {},
   "outputs": [],
   "source": [
    "tic = time()\n",
    "fine_grid = ds.get_recip_points(2, dX=.1, rX=40)[1]\n",
    "ediff = ds.AtomicDiffractionGenerator(10, fine_grid, reciprocal_mesh=True)\n",
    "diff_sphere = ediff.calculate_ed_data(structure, probe, slice_thickness=0.2, probe_centre=c[:2],\n",
    "                                     pointwise=True, ZERO=1e-4)\n",
    "'Low energy pattern: %.2fs'%(time()-tic)"
   ]
  },
  {
   "cell_type": "markdown",
   "metadata": {},
   "source": [
    "Plot all diffraction patterns"
   ]
  },
  {
   "cell_type": "code",
   "execution_count": null,
   "metadata": {},
   "outputs": [],
   "source": [
    "dps = ((diff_plain, 'Standard diffraction pattern', recip_grid, .3),\n",
    "       (diff_recip, 'Input reciprocal mesh', recip_grid, .3),\n",
    "       (diff_prec, 'Precessed diffraction pattern', recip_grid, .3),\n",
    "       (diff_flat, 'High energy limit', recip_grid, .3),\n",
    "       (diff_fast, 'Low precision', recip_grid, .3),\n",
    "       (diff_sphere, 'Low energy pattern', fine_grid, .2))\n",
    "\n",
    "plt.figure('diffraction pattern', figsize=(10,14))\n",
    "for i, (arr, title, grid, p) in enumerate(dps):\n",
    "    plt.subplot(3,2,i+1)\n",
    "    plt.imshow(arr**p, aspect='equal', origin='lower', \n",
    "               extent=[grid[0][0], grid[0][-1], grid[1][0], grid[1][-1]])\n",
    "    plt.title(title)\n",
    "plt.tight_layout()"
   ]
  },
  {
   "cell_type": "code",
   "execution_count": null,
   "metadata": {},
   "outputs": [],
   "source": []
  }
 ],
 "metadata": {
  "kernelspec": {
   "display_name": "Python 3",
   "language": "python",
   "name": "python3"
  },
  "language_info": {
   "codemirror_mode": {
    "name": "ipython",
    "version": 3
   },
   "file_extension": ".py",
   "mimetype": "text/x-python",
   "name": "python",
   "nbconvert_exporter": "python",
   "pygments_lexer": "ipython3",
   "version": "3.8.3"
  }
 },
 "nbformat": 4,
 "nbformat_minor": 2
}
